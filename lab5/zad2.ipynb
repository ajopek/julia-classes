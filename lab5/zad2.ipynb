{
 "cells": [
  {
   "cell_type": "code",
   "execution_count": 15,
   "metadata": {},
   "outputs": [
    {
     "data": {
      "text/plain": [
       "autodiff (generic function with 4 methods)"
      ]
     },
     "execution_count": 15,
     "metadata": {},
     "output_type": "execute_result"
    }
   ],
   "source": [
    "autodiff(n::Number) = 0\n",
    "autodiff(s::Symbol) = 1"
   ]
  },
  {
   "cell_type": "code",
   "execution_count": 55,
   "metadata": {},
   "outputs": [
    {
     "data": {
      "text/plain": [
       "autodiff (generic function with 4 methods)"
      ]
     },
     "execution_count": 55,
     "metadata": {},
     "output_type": "execute_result"
    }
   ],
   "source": [
    "function autodiff(::Type{Val{:+}}, ex ::Expr) :: Expr\n",
    "    reduce((x, y) -> :($x + $y) ,map(autodiff, ex.args[2:end]))\n",
    "end    \n",
    "function autodiff(::Type{Val{:-}}, ex ::Expr) ::Expr\n",
    "    reduce((x, y) -> :($x - $y) ,map(autodiff, ex.args[2:end]))\n",
    "end    \n",
    "function autodiff(::Type{Val{:*}}, ex ::Expr) ::Expr\n",
    "    res = :(0)\n",
    "    children = ex.args[2:end]\n",
    "    diffs = map(autodiff, children)\n",
    "    \n",
    "    for i in 1:length(diffs)\n",
    "        part = 1\n",
    "        for j in 1:length(diffs)\n",
    "            if i == j\n",
    "                d = diffs[j]\n",
    "                part = :($part * $d)\n",
    "            else\n",
    "                c = children[j]\n",
    "                part = :($part * $c)\n",
    "            end\n",
    "        end\n",
    "        res = :($res + $part)\n",
    "    end\n",
    "       \n",
    "    res\n",
    "end    \n",
    "function autodiff(::Type{Val{:/}}, ex ::Expr) ::Expr\n",
    "    f = ex.args[2]\n",
    "    g = ex.args[3]\n",
    "    df = autodiff(ex.args[2])\n",
    "    dg = autodiff(ex.args[3])\n",
    "    :(($df * $g - $f * $dg) / ($g * $g))\n",
    "end    "
   ]
  },
  {
   "cell_type": "code",
   "execution_count": 56,
   "metadata": {},
   "outputs": [
    {
     "data": {
      "text/plain": [
       "autodiff (generic function with 5 methods)"
      ]
     },
     "execution_count": 56,
     "metadata": {},
     "output_type": "execute_result"
    }
   ],
   "source": [
    "function autodiff(ex::Expr)::Expr\n",
    "    if (ex.head == :call) autodiff(Val{ex.args[1]}, ex) end\n",
    "end    "
   ]
  },
  {
   "cell_type": "code",
   "execution_count": 66,
   "metadata": {},
   "outputs": [
    {
     "data": {
      "text/plain": [
       ":((((0 + (1 * 1) * x) + (1x) * 1) * 1 - (x * x) * 0) / (1 * 1) + (1 * 2 - x * 0) / (2 * 2))"
      ]
     },
     "execution_count": 66,
     "metadata": {},
     "output_type": "execute_result"
    }
   ],
   "source": [
    "autodiff(:(x * x / 1 + x / 2))"
   ]
  },
  {
   "cell_type": "code",
   "execution_count": 67,
   "metadata": {},
   "outputs": [
    {
     "data": {
      "text/plain": [
       ":(1 + (((0 + ((1 * 1) * x) * x) + ((1x) * 1) * x) + ((1x) * x) * 1))"
      ]
     },
     "execution_count": 67,
     "metadata": {},
     "output_type": "execute_result"
    }
   ],
   "source": [
    "autodiff(:(x + x*x*x))"
   ]
  },
  {
   "cell_type": "code",
   "execution_count": 35,
   "metadata": {},
   "outputs": [
    {
     "data": {
      "text/plain": [
       "f (generic function with 1 method)"
      ]
     },
     "execution_count": 35,
     "metadata": {},
     "output_type": "execute_result"
    }
   ],
   "source": [
    "f(x) = x * x + x - 10"
   ]
  },
  {
   "cell_type": "code",
   "execution_count": 10,
   "metadata": {},
   "outputs": [
    {
     "data": {
      "text/plain": [
       "autodiffFun (generic function with 1 method)"
      ]
     },
     "execution_count": 10,
     "metadata": {},
     "output_type": "execute_result"
    }
   ],
   "source": [
    "# Zadanie dodatkowe the fun way\n",
    "using DualNumbers\n",
    "function autodiffFun(f) \n",
    "    g(x) = dualpart(f(Dual(x,1)))\n",
    "end    "
   ]
  },
  {
   "cell_type": "code",
   "execution_count": 12,
   "metadata": {},
   "outputs": [
    {
     "data": {
      "text/plain": [
       "4"
      ]
     },
     "execution_count": 12,
     "metadata": {},
     "output_type": "execute_result"
    }
   ],
   "source": [
    "f(x) = x*x\n",
    "g = autodiffFun(f)\n",
    "g(2)"
   ]
  }
 ],
 "metadata": {
  "kernelspec": {
   "display_name": "Julia 0.6.2",
   "language": "julia",
   "name": "julia-0.6"
  },
  "language_info": {
   "file_extension": ".jl",
   "mimetype": "application/julia",
   "name": "julia",
   "version": "0.6.2"
  }
 },
 "nbformat": 4,
 "nbformat_minor": 2
}
