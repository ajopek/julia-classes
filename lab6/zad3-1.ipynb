{
 "cells": [
  {
   "cell_type": "code",
   "execution_count": 1,
   "metadata": {},
   "outputs": [
    {
     "data": {
      "text/plain": [
       "Plots.GRBackend()"
      ]
     },
     "execution_count": 1,
     "metadata": {},
     "output_type": "execute_result"
    }
   ],
   "source": [
    "using Plots\n",
    "using DataFrames\n",
    "using Gadfly\n",
    "Plots.gr()"
   ]
  },
  {
   "cell_type": "code",
   "execution_count": 2,
   "metadata": {},
   "outputs": [],
   "source": [
    "@everywhere function generate_julia(z; c=2, maxiter=200)\n",
    "    for i=1:maxiter\n",
    "        if abs(z) > 2\n",
    "            return i-1\n",
    "        end\n",
    "        z = z^2 + c\n",
    "    end\n",
    "    maxiter\n",
    "end\n",
    "\n",
    "@everywhere function calc_julia!(julia_set, xrange, yrange; maxiter=200, height=400, width_start=1, width_end=400)\n",
    "    for x=width_start:width_end\n",
    "        for y=1:height\n",
    "            z = xrange[x] + 1im*yrange[y]\n",
    "            julia_set[x, y] = generate_julia(z, c=-0.70176-0.3842im, maxiter=maxiter)\n",
    "        end\n",
    "    end\n",
    "    julia_set[width_start:width_end, :]\n",
    "end"
   ]
  },
  {
   "cell_type": "code",
   "execution_count": 3,
   "metadata": {},
   "outputs": [
    {
     "data": {
      "text/plain": [
       "calc_julia_main (generic function with 1 method)"
      ]
     },
     "execution_count": 3,
     "metadata": {},
     "output_type": "execute_result"
    }
   ],
   "source": [
    "function calc_julia_main(h, w, chunck_len)\n",
    "    xmin, xmax = -2,2\n",
    "    ymin, ymax = -1,1\n",
    "    xrange = linspace(xmin, xmax, w)\n",
    "    yrange = linspace(ymin, ymax, h)\n",
    "    julia_set = SharedArray{Int64}(w, h)\n",
    "    \n",
    "    # Chunk array\n",
    "    jobs = []\n",
    "    last_end = 0\n",
    "    while (last_end < w) \n",
    "        start = last_end + 1\n",
    "        last_end = start + chunck_len - 1\n",
    "        if(last_end > w) \n",
    "            last_end = w\n",
    "            push!(jobs, (start, last_end))\n",
    "            break\n",
    "        end\n",
    "        push!(jobs, (start, last_end))\n",
    "    end\n",
    "\n",
    "    # Time\n",
    "    tic()\n",
    "\n",
    "    julia_set = @parallel (vcat) for (b, e) = jobs\n",
    "        calc_julia!(julia_set, xrange, yrange, height=h, width_start=b, width_end=e)\n",
    "    end\n",
    "    time = toq()\n",
    "\n",
    "    #Plots.heatmap(xrange, yrange, julia_set)\n",
    "    #png(\"julia\")\n",
    "\n",
    "    return time\n",
    "end"
   ]
  },
  {
   "cell_type": "code",
   "execution_count": 4,
   "metadata": {},
   "outputs": [
    {
     "data": {
      "text/plain": [
       "julia_time_and_plot (generic function with 3 methods)"
      ]
     },
     "execution_count": 4,
     "metadata": {},
     "output_type": "execute_result"
    }
   ],
   "source": [
    "function julia_time_and_plot(width=2000, height=2000) \n",
    "    measurements = DataFrame()\n",
    "    measurements[:time] = 0.0\n",
    "    measurements[:chunck] = 0\n",
    "    chunck_len = 1\n",
    "    while chunck_len < width\n",
    "        measurement = DataFrame()\n",
    "        measurement[:time] = calc_julia_main(height, width, chunck_len)\n",
    "        measurement[:chunck] = chunck_len\n",
    "        append!(measurements, measurement)\n",
    "\n",
    "        chunck_len = chunck_len + div(width, 40)\n",
    "    end\n",
    "    plot(measurements, x = \"chunck\", y = \"time\", Geom.bar(position=:dodge))\n",
    "end"
   ]
  },
  {
   "cell_type": "code",
   "execution_count": 5,
   "metadata": {},
   "outputs": [
    {
     "name": "stdout",
     "output_type": "stream",
     "text": [
      "-1.8019009504752377-0.8999499749874937\n"
     ]
    },
    {
     "name": "stderr",
     "output_type": "stream",
     "text": [
      "WARNING: both Gadfly and Plots export \"plot\"; uses of it in module Main must be qualified\n"
     ]
    },
    {
     "name": "stdout",
     "output_type": "stream",
     "text": [
      "-1.8019009504752377-0.8999499749874937\n"
     ]
    },
    {
     "name": "stderr",
     "output_type": "stream",
     "text": [
      "\u001b[1m\u001b[33mWARNING: \u001b[39m\u001b[22m\u001b[33mSharedArray(::Type{T}, dims::Dims{N}; kwargs...) where {T, N} is deprecated, use SharedArray{T}(dims; kwargs...) instead.\u001b[39m\n",
      "Stacktrace:\n",
      " [1] \u001b[1mdepwarn\u001b[22m\u001b[22m\u001b[1m(\u001b[22m\u001b[22m::String, ::Symbol\u001b[1m)\u001b[22m\u001b[22m at \u001b[1m./deprecated.jl:70\u001b[22m\u001b[22m\n",
      " [2] \u001b[1m#SharedArray#773\u001b[22m\u001b[22m\u001b[1m(\u001b[22m\u001b[22m::Array{Any,1}, ::Type{T} where T, ::Type{Int64}, ::Tuple{Int64,Int64}\u001b[1m)\u001b[22m\u001b[22m at \u001b[1m./deprecated.jl:57\u001b[22m\u001b[22m\n",
      " [3] \u001b[1mSharedArray\u001b[22m\u001b[22m\u001b[1m(\u001b[22m\u001b[22m::Type{Int64}, ::Tuple{Int64,Int64}\u001b[1m)\u001b[22m\u001b[22m at \u001b[1m./deprecated.jl:57\u001b[22m\u001b[22m\n",
      " [4] \u001b[1mcalc_julia_main\u001b[22m\u001b[22m\u001b[1m(\u001b[22m\u001b[22m::Int64, ::Int64, ::Int64\u001b[1m)\u001b[22m\u001b[22m at \u001b[1m./In[3]:7\u001b[22m\u001b[22m\n",
      " [5] \u001b[1mjulia_time_and_plot\u001b[22m\u001b[22m\u001b[1m(\u001b[22m\u001b[22m::Int64, ::Int64\u001b[1m)\u001b[22m\u001b[22m at \u001b[1m./In[4]:8\u001b[22m\u001b[22m\n",
      " [6] \u001b[1mjulia_time_and_plot\u001b[22m\u001b[22m\u001b[1m(\u001b[22m\u001b[22m\u001b[1m)\u001b[22m\u001b[22m at \u001b[1m./In[4]:2\u001b[22m\u001b[22m\n",
      " [7] \u001b[1minclude_string\u001b[22m\u001b[22m\u001b[1m(\u001b[22m\u001b[22m::String, ::String\u001b[1m)\u001b[22m\u001b[22m at \u001b[1m./loading.jl:522\u001b[22m\u001b[22m\n",
      " [8] \u001b[1minclude_string\u001b[22m\u001b[22m\u001b[1m(\u001b[22m\u001b[22m::Module, ::String, ::String\u001b[1m)\u001b[22m\u001b[22m at \u001b[1m/home/artur/.julia/v0.6/Compat/src/Compat.jl:71\u001b[22m\u001b[22m\n",
      " [9] \u001b[1mexecute_request\u001b[22m\u001b[22m\u001b[1m(\u001b[22m\u001b[22m::ZMQ.Socket, ::IJulia.Msg\u001b[1m)\u001b[22m\u001b[22m at \u001b[1m/home/artur/.julia/v0.6/IJulia/src/execute_request.jl:158\u001b[22m\u001b[22m\n",
      " [10] \u001b[1m(::Compat.#inner#17{Array{Any,1},IJulia.#execute_request,Tuple{ZMQ.Socket,IJulia.Msg}})\u001b[22m\u001b[22m\u001b[1m(\u001b[22m\u001b[22m\u001b[1m)\u001b[22m\u001b[22m at \u001b[1m/home/artur/.julia/v0.6/Compat/src/Compat.jl:385\u001b[22m\u001b[22m\n",
      " [11] \u001b[1meventloop\u001b[22m\u001b[22m\u001b[1m(\u001b[22m\u001b[22m::ZMQ.Socket\u001b[1m)\u001b[22m\u001b[22m at \u001b[1m/home/artur/.julia/v0.6/IJulia/src/eventloop.jl:8\u001b[22m\u001b[22m\n",
      " [12] \u001b[1m(::IJulia.##14#17)\u001b[22m\u001b[22m\u001b[1m(\u001b[22m\u001b[22m\u001b[1m)\u001b[22m\u001b[22m at \u001b[1m./task.jl:335\u001b[22m\u001b[22m\n",
      "while loading In[5], in expression starting on line 1\n"
     ]
    },
    {
     "name": "stdout",
     "output_type": "stream",
     "text": [
      "-1.8019009504752377-0.8999499749874937\n",
      "-1.8019009504752377-0.8999499749874937\n",
      "-1.8019009504752377-0.8999499749874937\n",
      "-1.8019009504752377-0.8999499749874937\n",
      "-1.8019009504752377-0.8999499749874937\n",
      "-1.8019009504752377-0.8999499749874937\n",
      "-1.8019009504752377-0.8999499749874937\n",
      "-1.8019009504752377-0.8999499749874937\n",
      "-1.8019009504752377-0.8999499749874937\n",
      "-1.8019009504752377-0.8999499749874937\n",
      "-1.8019009504752377-0.8999499749874937\n",
      "-1.8019009504752377-0.8999499749874937\n",
      "-1.8019009504752377-0.8999499749874937\n",
      "-1.8019009504752377-0.8999499749874937\n",
      "-1.8019009504752377-0.8999499749874937\n",
      "-1.8019009504752377-0.8999499749874937\n",
      "-1.8019009504752377-0.8999499749874937\n",
      "-1.8019009504752377-0.8999499749874937\n",
      "-1.8019009504752377-0.8999499749874937\n",
      "-1.8019009504752377-0.8999499749874937\n",
      "-1.8019009504752377-0.8999499749874937\n",
      "-1.8019009504752377-0.8999499749874937\n",
      "-1.8019009504752377-0.8999499749874937\n",
      "-1.8019009504752377-0.8999499749874937\n",
      "-1.8019009504752377-0.8999499749874937\n",
      "-1.8019009504752377-0.8999499749874937\n",
      "-1.8019009504752377-0.8999499749874937\n",
      "-1.8019009504752377-0.8999499749874937\n",
      "-1.8019009504752377-0.8999499749874937\n",
      "-1.8019009504752377-0.8999499749874937\n",
      "-1.8019009504752377-0.8999499749874937\n",
      "-1.8019009504752377-0.8999499749874937\n",
      "-1.8019009504752377-0.8999499749874937\n",
      "-1.8019009504752377-0.8999499749874937\n",
      "-1.8019009504752377-0.8999499749874937\n",
      "-1.8019009504752377-0.8999499749874937\n",
      "-1.8019009504752377-0.8999499749874937\n",
      "-1.8019009504752377-0.8999499749874937\n"
     ]
    },
    {
     "ename": "LoadError",
     "evalue": "\u001b[91mUndefVarError: plot not defined\u001b[39m",
     "output_type": "error",
     "traceback": [
      "\u001b[91mUndefVarError: plot not defined\u001b[39m",
      "",
      "Stacktrace:",
      " [1] \u001b[1mjulia_time_and_plot\u001b[22m\u001b[22m\u001b[1m(\u001b[22m\u001b[22m::Int64, ::Int64\u001b[1m)\u001b[22m\u001b[22m at \u001b[1m./In[4]:14\u001b[22m\u001b[22m",
      " [2] \u001b[1mjulia_time_and_plot\u001b[22m\u001b[22m\u001b[1m(\u001b[22m\u001b[22m\u001b[1m)\u001b[22m\u001b[22m at \u001b[1m./In[4]:2\u001b[22m\u001b[22m",
      " [3] \u001b[1minclude_string\u001b[22m\u001b[22m\u001b[1m(\u001b[22m\u001b[22m::String, ::String\u001b[1m)\u001b[22m\u001b[22m at \u001b[1m./loading.jl:522\u001b[22m\u001b[22m"
     ]
    }
   ],
   "source": [
    "julia_time_and_plot()"
   ]
  },
  {
   "cell_type": "code",
   "execution_count": null,
   "metadata": {},
   "outputs": [],
   "source": []
  }
 ],
 "metadata": {
  "kernelspec": {
   "display_name": "Julia 0.6.2",
   "language": "julia",
   "name": "julia-0.6"
  },
  "language_info": {
   "file_extension": ".jl",
   "mimetype": "application/julia",
   "name": "julia",
   "version": "0.6.2"
  }
 },
 "nbformat": 4,
 "nbformat_minor": 2
}
